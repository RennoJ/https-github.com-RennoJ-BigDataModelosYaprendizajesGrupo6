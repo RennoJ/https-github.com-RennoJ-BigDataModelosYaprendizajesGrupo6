{
 "cells": [
  {
   "cell_type": "code",
   "execution_count": 1,
   "id": "c6a12b99",
   "metadata": {},
   "outputs": [
    {
     "data": {
      "text/plain": [
       "'\\nTareas:\\n    1. Preparación del dataset:\\n        ○ Explora el dataset y familiarízate con las características.\\n        ○ Preprocesa el dataset para manejar valores nulos o inconsistentes.\\n        ○ Aplica técnicas de reducción de dimensionalidad si es necesario.\\n        ○ Separa el dataset en conjuntos de entrenamiento, validación y prueba.\\n    2. Selección de técnicas de aprendizaje automático:\\n        ○ Investiga diversas técnicas de aprendizaje automático para la clasificación de malware.\\n        ○ Selecciona una o más técnicas adecuadas (modelos de ML) para este\\n          problema, considerando el desbalance de clases.\\n        ○ Justifica la elección de las técnicas seleccionadas.\\n    3. Entrenamiento del modelo:\\n        ○ Implementa las técnicas de aprendizaje automático elegidas.\\n        ○ Entrena el modelo utilizando el conjunto de entrenamiento.\\n        ○ Optimiza los hiperparámetros del modelo para obtener la mejor\\n          precisión posible, considerando el desbalance de clases.\\n    4. Evaluación del modelo:\\n        ○ Evalúa el rendimiento del modelo en los conjuntos de validación y\\n          prueba.\\n        ○ Calcula métricas de evaluación apropiadas para el problema, como\\n          precisión,sensibilidad, especificidad y AUC-ROC.\\n        ○ Analiza los resultados de la evaluación e identifica posibles mejoras.\\n    5. Interpretación del modelo:\\n        ○ Analiza los resultados del modelo para identificar las características\\n          más importantes para la clasificación de malware.\\n        ○ Visualiza los resultados del modelo para comprender mejor su\\n          funcionamiento.\\n\\n'"
      ]
     },
     "execution_count": 1,
     "metadata": {},
     "output_type": "execute_result"
    }
   ],
   "source": [
    "\"\"\"\n",
    "Tareas:\n",
    "    1. Preparación del dataset:\n",
    "        ○ Explora el dataset y familiarízate con las características.\n",
    "        ○ Preprocesa el dataset para manejar valores nulos o inconsistentes.\n",
    "        ○ Aplica técnicas de reducción de dimensionalidad si es necesario.\n",
    "        ○ Separa el dataset en conjuntos de entrenamiento, validación y prueba.\n",
    "    2. Selección de técnicas de aprendizaje automático:\n",
    "        ○ Investiga diversas técnicas de aprendizaje automático para la clasificación de malware.\n",
    "        ○ Selecciona una o más técnicas adecuadas (modelos de ML) para este\n",
    "          problema, considerando el desbalance de clases.\n",
    "        ○ Justifica la elección de las técnicas seleccionadas.\n",
    "    3. Entrenamiento del modelo:\n",
    "        ○ Implementa las técnicas de aprendizaje automático elegidas.\n",
    "        ○ Entrena el modelo utilizando el conjunto de entrenamiento.\n",
    "        ○ Optimiza los hiperparámetros del modelo para obtener la mejor\n",
    "          precisión posible, considerando el desbalance de clases.\n",
    "    4. Evaluación del modelo:\n",
    "        ○ Evalúa el rendimiento del modelo en los conjuntos de validación y\n",
    "          prueba.\n",
    "        ○ Calcula métricas de evaluación apropiadas para el problema, como\n",
    "          precisión,sensibilidad, especificidad y AUC-ROC.\n",
    "        ○ Analiza los resultados de la evaluación e identifica posibles mejoras.\n",
    "    5. Interpretación del modelo:\n",
    "        ○ Analiza los resultados del modelo para identificar las características\n",
    "          más importantes para la clasificación de malware.\n",
    "        ○ Visualiza los resultados del modelo para comprender mejor su\n",
    "          funcionamiento.\n",
    "\n",
    "\"\"\""
   ]
  },
  {
   "cell_type": "code",
   "execution_count": 2,
   "id": "d5724637",
   "metadata": {},
   "outputs": [
    {
     "name": "stdout",
     "output_type": "stream",
     "text": [
      "           Label  F_1  F_2  F_3  F_4  F_5  F_6  F_7  F_8  F_9  ...  F_522  \\\n",
      "0  non-malicious    1    0    1    0    1    0    1    0    1  ...      0   \n",
      "1  non-malicious    1    0    1    0    1    0    1    0    1  ...      0   \n",
      "2  non-malicious    1    0    1    0    1    0    1    0    1  ...      0   \n",
      "3  non-malicious    1    0    1    0    1    0    1    0    1  ...      0   \n",
      "4  non-malicious    1    0    1    0    1    0    1    0    1  ...      0   \n",
      "\n",
      "   F_523  F_524  F_525  F_526  F_527  F_528  F_529  F_530  F_531  \n",
      "0      0      0      0      0      0      0      0      0      0  \n",
      "1      0      0      0      0      0      0      0      0      0  \n",
      "2      0      0      0      0      0      0      0      0      0  \n",
      "3      0      0      0      0      0      0      0      0      0  \n",
      "4      0      0      0      0      0      0      0      0      0  \n",
      "\n",
      "[5 rows x 532 columns]\n",
      "<class 'pandas.core.frame.DataFrame'>\n",
      "RangeIndex: 373 entries, 0 to 372\n",
      "Columns: 532 entries, Label to F_531\n",
      "dtypes: int64(531), object(1)\n",
      "memory usage: 1.5+ MB\n",
      "None\n"
     ]
    }
   ],
   "source": [
    "#Paso 1: Explora el dataset y familiarízate con las características\n",
    "\n",
    "import pandas as pd\n",
    "malware = pd.read_csv('C:\\\\Users\\\\User\\\\Downloads\\\\uci_malware_detection.csv')\n",
    "print(malware.head()) #Estadísticas del dataset\n",
    "print(malware.info()) #Rango de columnas y filas incluyendo las etiquetas\n",
    "\n",
    "# Los valores de media y máximo nos indican una gran dispersión de datos dentro de algunas columnas.\n",
    "# Estas pueden deberse a valores faltantes o vacíos dentro del dataset o que dentro de las mismas se encuentren muchos\n",
    "# valores cercanos a cero.\n"
   ]
  },
  {
   "cell_type": "code",
   "execution_count": 3,
   "id": "b4881a3d",
   "metadata": {},
   "outputs": [
    {
     "name": "stdout",
     "output_type": "stream",
     "text": [
      "Valores nulos por columna:\n",
      "F_1      0\n",
      "F_2      0\n",
      "F_3      0\n",
      "F_4      0\n",
      "F_5      0\n",
      "        ..\n",
      "F_527    0\n",
      "F_528    0\n",
      "F_529    0\n",
      "F_530    0\n",
      "F_531    0\n",
      "Length: 531, dtype: int64\n",
      "              F_1    F_2         F_3         F_4         F_5    F_6  \\\n",
      "count  373.000000  373.0  373.000000  373.000000  373.000000  373.0   \n",
      "mean     0.997319    0.0    0.994638    0.002681    0.994638    0.0   \n",
      "std      0.051778    0.0    0.073127    0.051778    0.073127    0.0   \n",
      "min      0.000000    0.0    0.000000    0.000000    0.000000    0.0   \n",
      "25%      1.000000    0.0    1.000000    0.000000    1.000000    0.0   \n",
      "50%      1.000000    0.0    1.000000    0.000000    1.000000    0.0   \n",
      "75%      1.000000    0.0    1.000000    0.000000    1.000000    0.0   \n",
      "max      1.000000    0.0    1.000000    1.000000    1.000000    0.0   \n",
      "\n",
      "              F_7    F_8         F_9   F_10  ...      F_522       F_523  \\\n",
      "count  373.000000  373.0  373.000000  373.0  ...  373.00000  373.000000   \n",
      "mean     0.994638    0.0    0.994638    0.0  ...    0.10992    0.107239   \n",
      "std      0.073127    0.0    0.073127    0.0  ...    0.31321    0.309832   \n",
      "min      0.000000    0.0    0.000000    0.0  ...    0.00000    0.000000   \n",
      "25%      1.000000    0.0    1.000000    0.0  ...    0.00000    0.000000   \n",
      "50%      1.000000    0.0    1.000000    0.0  ...    0.00000    0.000000   \n",
      "75%      1.000000    0.0    1.000000    0.0  ...    0.00000    0.000000   \n",
      "max      1.000000    0.0    1.000000    0.0  ...    1.00000    1.000000   \n",
      "\n",
      "            F_524       F_525       F_526       F_527       F_528       F_529  \\\n",
      "count  373.000000  373.000000  373.000000  373.000000  373.000000  373.000000   \n",
      "mean     0.088472    0.099196    0.522788    0.040214    0.091153    0.080429   \n",
      "std      0.284361    0.299326    0.500151    0.196726    0.288213    0.272321   \n",
      "min      0.000000    0.000000    0.000000    0.000000    0.000000    0.000000   \n",
      "25%      0.000000    0.000000    0.000000    0.000000    0.000000    0.000000   \n",
      "50%      0.000000    0.000000    1.000000    0.000000    0.000000    0.000000   \n",
      "75%      0.000000    0.000000    1.000000    0.000000    0.000000    0.000000   \n",
      "max      1.000000    1.000000    1.000000    1.000000    1.000000    1.000000   \n",
      "\n",
      "            F_530       F_531  \n",
      "count  373.000000  373.000000  \n",
      "mean     0.530831    0.144772  \n",
      "std      0.499719    0.352344  \n",
      "min      0.000000    0.000000  \n",
      "25%      0.000000    0.000000  \n",
      "50%      1.000000    0.000000  \n",
      "75%      1.000000    0.000000  \n",
      "max      1.000000    1.000000  \n",
      "\n",
      "[8 rows x 531 columns]\n"
     ]
    }
   ],
   "source": [
    "#Paso 1: Preprocesa el dataset para manejar valores nulos o inconsistentes.\n",
    "nulos = malware.drop(columns=['Label']).isnull().sum()\n",
    "\n",
    "# Mostrar los valores nulos por columna\n",
    "print(\"Valores nulos por columna:\")\n",
    "print(nulos)\n",
    "# No presenta valores nulos en el Dataset\n",
    "\n",
    "# Valores inconsistentes\n",
    "print(malware.describe())\n",
    "# Permite conocer la media con valores de columnas menor a 0.09 y máximo 1, lo cúal nos indica que existe una\n",
    "# dispersión fuerte de los valores hacia el número cero."
   ]
  },
  {
   "cell_type": "code",
   "execution_count": 4,
   "id": "d5007025",
   "metadata": {},
   "outputs": [
    {
     "name": "stdout",
     "output_type": "stream",
     "text": [
      "Características (X):\n",
      "   F_1  F_2  F_3  F_4  F_5  F_6  F_7  F_8  F_9  F_10  ...  F_522  F_523  \\\n",
      "0    1    0    1    0    1    0    1    0    1     0  ...      0      0   \n",
      "1    1    0    1    0    1    0    1    0    1     0  ...      0      0   \n",
      "2    1    0    1    0    1    0    1    0    1     0  ...      0      0   \n",
      "3    1    0    1    0    1    0    1    0    1     0  ...      0      0   \n",
      "4    1    0    1    0    1    0    1    0    1     0  ...      0      0   \n",
      "\n",
      "   F_524  F_525  F_526  F_527  F_528  F_529  F_530  F_531  \n",
      "0      0      0      0      0      0      0      0      0  \n",
      "1      0      0      0      0      0      0      0      0  \n",
      "2      0      0      0      0      0      0      0      0  \n",
      "3      0      0      0      0      0      0      0      0  \n",
      "4      0      0      0      0      0      0      0      0  \n",
      "\n",
      "[5 rows x 531 columns]\n",
      "\n",
      "Etiquetas (y):\n",
      "0    non-malicious\n",
      "1    non-malicious\n",
      "2    non-malicious\n",
      "3    non-malicious\n",
      "4    non-malicious\n",
      "Name: Label, dtype: object\n"
     ]
    }
   ],
   "source": [
    "#Características (X) y etiquetas (y)\n",
    "X = malware.drop(columns=['Label'])  # Excluir la columna de etiqueta\n",
    "y = malware['Label']\n",
    "\n",
    "# Verificar las primeras filas de X y y \n",
    "print(\"Características (X):\")\n",
    "print(X.head())\n",
    "print(\"\\nEtiquetas (y):\")\n",
    "print(y.head())"
   ]
  },
  {
   "cell_type": "code",
   "execution_count": 5,
   "id": "a932fab4",
   "metadata": {},
   "outputs": [
    {
     "name": "stdout",
     "output_type": "stream",
     "text": [
      "Clases después de oversampling: {'malicious': 301, 'non-malicious': 301}\n"
     ]
    }
   ],
   "source": [
    "from imblearn.over_sampling import RandomOverSampler\n",
    "oversampler = RandomOverSampler()\n",
    "X_resampled, y_resampled = oversampler.fit_resample(X, y)\n",
    "import numpy as np\n",
    "\n",
    "# Contar las clases en y\n",
    "clases, conteo = np.unique(y_resampled, return_counts=True)\n",
    "print(\"Clases después de oversampling:\", dict(zip(clases, conteo)))"
   ]
  },
  {
   "cell_type": "code",
   "execution_count": 6,
   "id": "64cd38c6",
   "metadata": {},
   "outputs": [
    {
     "name": "stdout",
     "output_type": "stream",
     "text": [
      "Tamaño del conjunto de entrenamiento: 481\n",
      "Tamaño del conjunto de prueba: 121\n"
     ]
    }
   ],
   "source": [
    "#Paso 1: Separa el dataset en conjuntos de entrenamiento, validación y prueba.\n",
    "from sklearn.model_selection import train_test_split\n",
    "\n",
    "# Dividir los datos en conjunto de entrenamiento y conjunto de prueba (80% entrenamiento, 20% prueba)\n",
    "X_train, X_test, y_train, y_test = train_test_split(X_resampled, y_resampled, test_size=0.2, random_state=42)\n",
    "\n",
    "# Imprimir los tamaños de los conjuntos de datos resultantes\n",
    "print(\"Tamaño del conjunto de entrenamiento:\", X_train.shape[0])\n",
    "print(\"Tamaño del conjunto de prueba:\", X_test.shape[0])\n",
    "\n"
   ]
  },
  {
   "cell_type": "code",
   "execution_count": 7,
   "id": "3d36ab03",
   "metadata": {},
   "outputs": [
    {
     "data": {
      "text/plain": [
       "'Este tipo de aprendizaje automático es supervisado para clasificación de malware \\nporque utiliza un clasificador de bosque aleatorio (RandomForestClassifier). \\nEste clasificador es una técnica de aprendizaje automático que se basa en el ensamblaje \\nde múltiples árboles de decisión entrenados en diferentes subconjuntos del conjunto de datos ya que se entrenó \\nun modelo utilizando un conjunto de datos etiquetado con ejemplos de malware y software benigno. \\nEl modelo luego utiliza esta información etiquetada para hacer predicciones sobre nuevos archivos \\nejecutables y clasificarlos como maliciosos o benignos.'"
      ]
     },
     "execution_count": 7,
     "metadata": {},
     "output_type": "execute_result"
    }
   ],
   "source": [
    "# Paso 2:\n",
    "\"\"\"Este tipo de aprendizaje automático es supervisado para clasificación de malware \n",
    "porque utiliza un clasificador de bosque aleatorio (RandomForestClassifier). \n",
    "Este clasificador es una técnica de aprendizaje automático que se basa en el ensamblaje \n",
    "de múltiples árboles de decisión entrenados en diferentes subconjuntos del conjunto de datos ya que se entrenó \n",
    "un modelo utilizando un conjunto de datos etiquetado con ejemplos de malware y software benigno. \n",
    "El modelo luego utiliza esta información etiquetada para hacer predicciones sobre nuevos archivos \n",
    "ejecutables y clasificarlos como maliciosos o benignos.\"\"\"\n"
   ]
  },
  {
   "cell_type": "code",
   "execution_count": 8,
   "id": "49a883ec",
   "metadata": {},
   "outputs": [],
   "source": [
    "# Paso 3\n",
    "# Se inicializa y entrena un modelo de clasificación de bosque aleatorio utilizando RandomForestClassifier de scikit-learn.\n",
    "\n",
    "from sklearn.model_selection import train_test_split\n",
    "from sklearn.ensemble import RandomForestClassifier\n",
    "from sklearn.metrics import accuracy_score, classification_report\n",
    "\n",
    "model = RandomForestClassifier(n_estimators=100, random_state=42)\n",
    "model.fit(X_train, y_train)\n",
    "\n",
    "# Predecir las etiquetas para el conjunto de prueba\n",
    "y_pred = model.predict(X_test)\n",
    "\n"
   ]
  },
  {
   "cell_type": "code",
   "execution_count": 9,
   "id": "d9bcde40",
   "metadata": {},
   "outputs": [
    {
     "name": "stdout",
     "output_type": "stream",
     "text": [
      "Exactitud del modelo: 0.9917355371900827\n",
      "Reporte de clasificación:\n",
      "               precision    recall  f1-score   support\n",
      "\n",
      "    malicious       1.00      0.98      0.99        66\n",
      "non-malicious       0.98      1.00      0.99        55\n",
      "\n",
      "     accuracy                           0.99       121\n",
      "    macro avg       0.99      0.99      0.99       121\n",
      " weighted avg       0.99      0.99      0.99       121\n",
      "\n",
      "Matriz de confusión:\n",
      "[[65  1]\n",
      " [ 0 55]]\n"
     ]
    }
   ],
   "source": [
    "#Paso 4\n",
    "\n",
    "from sklearn.metrics import accuracy_score, precision_score, recall_score, confusion_matrix\n",
    "\n",
    "# Evaluar el rendimiento del modelo\n",
    "accuracy = accuracy_score(y_test, y_pred)\n",
    "print(\"Exactitud del modelo:\", accuracy)\n",
    "print(\"Reporte de clasificación:\")\n",
    "print(classification_report(y_test, y_pred))\n",
    "\n",
    "# Calcular matriz de confusión\n",
    "conf_matrix = confusion_matrix(y_test, y_pred)\n",
    "\n",
    "# Obtener TN, FP, FN, TP de la matriz de confusión\n",
    "TN, FP, FN, TP = conf_matrix.ravel()\n",
    "\n",
    "print(\"Matriz de confusión:\")\n",
    "print(conf_matrix)"
   ]
  },
  {
   "cell_type": "code",
   "execution_count": 10,
   "id": "2b0fbf11",
   "metadata": {},
   "outputs": [],
   "source": [
    "# Precisión: La clasificación para la clase maliciosa fue del 100% después de utilizar el oversampling y solo el 98% no maliciosa.\n",
    "# Exhaustividad (recall): Para ambas clases, la exhaustividad es del 98% o superior, lo que indica que el modelo identificó correctamente la gran mayoría de las muestras positivas.\n",
    "# f1-score: Adecuada proporcionalidad entre la precisión y la Exhaustividad (recall)\n",
    "# El soporte indica el número de muestras de cada clase en el conjunto de prueba. Hay 66 muestras de la clase maliciosa y 55 muestras de la clase no maliciosa.\n",
    "# Como resultado una exactitud del modelo del 99%"
   ]
  },
  {
   "cell_type": "code",
   "execution_count": 11,
   "id": "0a2c128d",
   "metadata": {},
   "outputs": [
    {
     "data": {
      "image/png": "[encoded data removed]",
      "text/plain": [
       "<Figure size 1000x600 with 1 Axes>"
      ]
     },
     "metadata": {},
     "output_type": "display_data"
    },
    {
     "name": "stdout",
     "output_type": "stream",
     "text": [
      "Características más importantes:\n",
      "     Feature  Importance\n",
      "19     F_20    0.063887\n",
      "18     F_19    0.058095\n",
      "138   F_139    0.052930\n",
      "50     F_51    0.041044\n",
      "139   F_140    0.040605\n",
      "112   F_113    0.034085\n",
      "178   F_179    0.031218\n",
      "66     F_67    0.029414\n",
      "68     F_69    0.025772\n",
      "161   F_162    0.024187\n"
     ]
    }
   ],
   "source": [
    "#Paso 5\n",
    "import matplotlib.pyplot as plt\n",
    "\n",
    "# Obtener la importancia de las características del modelo\n",
    "importances = model.feature_importances_\n",
    "\n",
    "# Obtener el nombre de las características\n",
    "feature_names = X_train.columns\n",
    "\n",
    "# Crear un DataFrame para visualizar las características y sus importancias\n",
    "feature_importances_df = pd.DataFrame({'Feature': feature_names, 'Importance': importances})\n",
    "feature_importances_df = feature_importances_df.sort_values(by='Importance', ascending=False)\n",
    "\n",
    "# Graficar las características más importantes\n",
    "plt.figure(figsize=(10, 6))\n",
    "plt.barh(feature_importances_df['Feature'][:10], feature_importances_df['Importance'][:10])\n",
    "plt.xlabel('Importancia')\n",
    "plt.ylabel('Características')\n",
    "plt.title('Características más importantes')\n",
    "plt.gca().invert_yaxis()  # Invertir el eje y para mostrar la característica más importante en la parte superior\n",
    "plt.show()\n",
    "\n",
    "# Mostrar las características más importantes\n",
    "top_features = feature_importances_df.head(10)\n",
    "print(\"Características más importantes:\\n\", top_features)"
   ]
  },
  {
   "cell_type": "code",
   "execution_count": 12,
   "id": "bbcb5423",
   "metadata": {},
   "outputs": [],
   "source": [
    "# Las características más importantes en un modelo de Bosque Aleatorio se determinan según su contribución \n",
    "# a la reducción de la impureza en los nodos del árbol de decisión durante el proceso de entrenamiento. \n",
    "# Ayudan al modelo a hacer predicciones precisas se consideran las más importantes."
   ]
  }
 ],
 "metadata": {
  "kernelspec": {
   "display_name": "Python 3 (ipykernel)",
   "language": "python",
   "name": "python3"
  },
  "language_info": {
   "codemirror_mode": {
    "name": "ipython",
    "version": 3
   },
   "file_extension": ".py",
   "mimetype": "text/x-python",
   "name": "python",
   "nbconvert_exporter": "python",
   "pygments_lexer": "ipython3",
   "version": "3.11.5"
  }
 },
 "nbformat": 4,
 "nbformat_minor": 5
}
